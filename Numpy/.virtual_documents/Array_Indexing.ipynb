import numpy as np





arr = np.arange(1,31)
arr


arr[0]


arr[-1]


arr[6]





arr[::2]


arr[1:3]


arr[10:21:2]


arr[1:4]








arr2 = np.arange(1,31).reshape((6,5))
arr2


arr2[0]


arr2[-1]





arr2[0][0]


arr2[0:2,2:4]


arr2[3:,3:]


arr2[:,1:2] # column at index [1]


type(arr2[:,1:2])








arr3 = np.arange(1,10)
arr3


bool_index = arr3 %2 == 0


bool_index


arr3 = arr3[bool_index]
arr3




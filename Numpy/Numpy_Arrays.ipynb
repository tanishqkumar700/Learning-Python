{
 "cells": [
  {
   "cell_type": "code",
   "execution_count": 2,
   "id": "0dd83ac6-efad-4e1b-ac8c-d75ddc6ad775",
   "metadata": {},
   "outputs": [],
   "source": [
    "import numpy as np"
   ]
  },
  {
   "cell_type": "markdown",
   "id": "b377e612-bff1-4400-90f4-321c80767c1c",
   "metadata": {},
   "source": [
    "**Basic Array Creation**"
   ]
  },
  {
   "cell_type": "code",
   "execution_count": 10,
   "id": "65ec1cc4-48ce-4463-9a3a-4284f014a620",
   "metadata": {},
   "outputs": [
    {
     "data": {
      "text/plain": [
       "array([1, 2, 3, 4])"
      ]
     },
     "execution_count": 10,
     "metadata": {},
     "output_type": "execute_result"
    }
   ],
   "source": [
    "arr = np.array([1,2,3,4])\n",
    "arr"
   ]
  },
  {
   "cell_type": "code",
   "execution_count": 18,
   "id": "07bf864a-9330-4a95-b537-8cbe7e76e657",
   "metadata": {},
   "outputs": [
    {
     "data": {
      "text/plain": [
       "array([1, 2, 3, 4])"
      ]
     },
     "execution_count": 18,
     "metadata": {},
     "output_type": "execute_result"
    }
   ],
   "source": [
    "arr = np.array([1,2,3,4])\n",
    "arr"
   ]
  },
  {
   "cell_type": "code",
   "execution_count": 22,
   "id": "b876c347-3e6b-44bb-b051-14c6e3ccb8fa",
   "metadata": {},
   "outputs": [
    {
     "data": {
      "text/plain": [
       "[1, 2, 3, 4.8, 'hello', True]"
      ]
     },
     "execution_count": 22,
     "metadata": {},
     "output_type": "execute_result"
    }
   ],
   "source": [
    "a = [1,2,3,4.8,'hello',True]\n",
    "a"
   ]
  },
  {
   "cell_type": "code",
   "execution_count": 24,
   "id": "42c73b62-ebba-46ab-83fd-933d94e7f61b",
   "metadata": {},
   "outputs": [
    {
     "data": {
      "text/plain": [
       "array(['1', '2', '3', '4.8', 'hello', 'True'], dtype='<U32')"
      ]
     },
     "execution_count": 24,
     "metadata": {},
     "output_type": "execute_result"
    }
   ],
   "source": [
    "np.array(a)"
   ]
  },
  {
   "cell_type": "code",
   "execution_count": 72,
   "id": "b852d62d-5deb-4ef3-8527-fe86fe329956",
   "metadata": {},
   "outputs": [
    {
     "data": {
      "text/plain": [
       "array([1, 2, 3, 4, 5, 6, 7, 8, 9])"
      ]
     },
     "execution_count": 72,
     "metadata": {},
     "output_type": "execute_result"
    }
   ],
   "source": [
    "# VECTOR\n",
    "l = [1,2,3,4,5,6,7,8,9]\n",
    "np.array(l)"
   ]
  },
  {
   "cell_type": "code",
   "execution_count": 28,
   "id": "b4839a6b-bbbc-4084-9b45-697c76d8dff6",
   "metadata": {},
   "outputs": [
    {
     "data": {
      "text/plain": [
       "array([[1, 2, 3],\n",
       "       [4, 5, 6],\n",
       "       [7, 8, 9]])"
      ]
     },
     "execution_count": 28,
     "metadata": {},
     "output_type": "execute_result"
    }
   ],
   "source": [
    "#MATRIX\n",
    "np.array(l)"
   ]
  },
  {
   "cell_type": "markdown",
   "id": "40030a8f-8487-40ce-a849-c47fb5f2161f",
   "metadata": {},
   "source": [
    "**ARRAY GENERATION FUNCTION**"
   ]
  },
  {
   "cell_type": "code",
   "execution_count": 33,
   "id": "03190e67-31b6-45b2-842f-0e9802ece2ec",
   "metadata": {},
   "outputs": [
    {
     "data": {
      "text/plain": [
       "array([1, 3, 5, 7, 9])"
      ]
     },
     "execution_count": 33,
     "metadata": {},
     "output_type": "execute_result"
    }
   ],
   "source": [
    "arr1 = np.arange(1,11,2)\n",
    "arr1"
   ]
  },
  {
   "cell_type": "code",
   "execution_count": 45,
   "id": "0246e3b6-7fd5-45ba-b04e-6ec3027890b2",
   "metadata": {},
   "outputs": [
    {
     "name": "stdout",
     "output_type": "stream",
     "text": [
      "[0. 0. 0. 0. 0.]\n"
     ]
    },
    {
     "data": {
      "text/plain": [
       "array([[0., 0.],\n",
       "       [0., 0.],\n",
       "       [0., 0.],\n",
       "       [0., 0.],\n",
       "       [0., 0.]])"
      ]
     },
     "execution_count": 45,
     "metadata": {},
     "output_type": "execute_result"
    }
   ],
   "source": [
    "arr2 = np.zeros((5))\n",
    "print(arr2)\n",
    "arr3 = np.zeros((5,2))\n",
    "arr3"
   ]
  },
  {
   "cell_type": "code",
   "execution_count": 47,
   "id": "f4de5b10-3bba-4684-a52e-e1ac16516415",
   "metadata": {},
   "outputs": [
    {
     "name": "stdout",
     "output_type": "stream",
     "text": [
      "[1. 1. 1. 1. 1.]\n"
     ]
    },
    {
     "data": {
      "text/plain": [
       "array([[1., 1.],\n",
       "       [1., 1.],\n",
       "       [1., 1.],\n",
       "       [1., 1.],\n",
       "       [1., 1.]])"
      ]
     },
     "execution_count": 47,
     "metadata": {},
     "output_type": "execute_result"
    }
   ],
   "source": [
    "arr2 = np.ones((5))\n",
    "print(arr2)\n",
    "arr3 = np.ones((5,2))\n",
    "arr3"
   ]
  },
  {
   "cell_type": "code",
   "execution_count": 68,
   "id": "57d757b5-95b3-4167-ba87-8f145542f1b6",
   "metadata": {},
   "outputs": [
    {
     "data": {
      "text/plain": [
       "array([1. , 1.5, 2. , 2.5, 3. , 3.5, 4. , 4.5, 5. ])"
      ]
     },
     "execution_count": 68,
     "metadata": {},
     "output_type": "execute_result"
    }
   ],
   "source": [
    "arr4 = np.linspace(1,5,9)\n",
    "arr4"
   ]
  },
  {
   "cell_type": "code",
   "execution_count": null,
   "id": "d0af63b2-ad8c-47b9-86c9-115da2a552a3",
   "metadata": {},
   "outputs": [],
   "source": []
  },
  {
   "cell_type": "markdown",
   "id": "4bce8b45-2330-47e5-b9df-213381c67dec",
   "metadata": {},
   "source": [
    "**RANDOM GENERATION FUNCTION**"
   ]
  },
  {
   "cell_type": "code",
   "execution_count": 83,
   "id": "cb047c49-ebe6-43d3-ba68-9a35b8b374da",
   "metadata": {},
   "outputs": [
    {
     "data": {
      "text/plain": [
       "array([[0.09174178, 0.56313569],\n",
       "       [0.53836245, 0.12653259],\n",
       "       [0.45367869, 0.63513259],\n",
       "       [0.03888974, 0.10675938],\n",
       "       [0.65592429, 0.92780871],\n",
       "       [0.34367751, 0.86756034],\n",
       "       [0.09866392, 0.27351647],\n",
       "       [0.09336861, 0.50617188],\n",
       "       [0.09671062, 0.81453725],\n",
       "       [0.61140572, 0.68177275]])"
      ]
     },
     "execution_count": 83,
     "metadata": {},
     "output_type": "execute_result"
    }
   ],
   "source": [
    "np.random.rand(10,2)  # RETURNS RANDOM NUMBER BETWEEN 0 AND 1 -> NORMALIZATION"
   ]
  },
  {
   "cell_type": "code",
   "execution_count": 106,
   "id": "8b92ca86-1f8d-4ea3-bf54-8db9eb8dff66",
   "metadata": {},
   "outputs": [
    {
     "data": {
      "text/plain": [
       "array([ 2.62258716,  0.37461011,  0.88358692, -0.25952917,  0.72703862,\n",
       "        1.05433859, -1.21680377,  0.84593   ,  0.24673206,  1.03846975])"
      ]
     },
     "execution_count": 106,
     "metadata": {},
     "output_type": "execute_result"
    }
   ],
   "source": [
    "np.random.randn(10)  # RETURNS RANDOM NUMBER BETWEEN -3 AND 3 -> STANDARDIZATION"
   ]
  },
  {
   "cell_type": "code",
   "execution_count": 121,
   "id": "635ff89f-d718-4873-80b2-2c094ba0206d",
   "metadata": {},
   "outputs": [
    {
     "data": {
      "text/plain": [
       "array([[5, 8],\n",
       "       [0, 4],\n",
       "       [8, 6],\n",
       "       [5, 1],\n",
       "       [0, 2]])"
      ]
     },
     "execution_count": 121,
     "metadata": {},
     "output_type": "execute_result"
    }
   ],
   "source": [
    "np.random.randint(0,10,size = (5,2))"
   ]
  },
  {
   "cell_type": "code",
   "execution_count": null,
   "id": "da48a1f6-095a-4e73-b545-9b7699a5e28e",
   "metadata": {},
   "outputs": [],
   "source": []
  },
  {
   "cell_type": "markdown",
   "id": "a7b8fa34-2a3c-4769-9b0a-bfa52f413b70",
   "metadata": {},
   "source": [
    "**ARRAY ATTRIBUTES**"
   ]
  },
  {
   "cell_type": "code",
   "execution_count": 134,
   "id": "02fecdb9-44a8-405b-bb8c-bb7feb51700c",
   "metadata": {},
   "outputs": [
    {
     "data": {
      "text/plain": [
       "array([[1, 2, 3],\n",
       "       [4, 5, 6],\n",
       "       [7, 8, 9]])"
      ]
     },
     "execution_count": 134,
     "metadata": {},
     "output_type": "execute_result"
    }
   ],
   "source": [
    "arr5 = np.array([[1,2,3],[4,5,6],[7,8,9]])\n",
    "arr5"
   ]
  },
  {
   "cell_type": "code",
   "execution_count": 136,
   "id": "003753e3-9133-4d2b-9a2f-3547ffcd058d",
   "metadata": {},
   "outputs": [
    {
     "data": {
      "text/plain": [
       "(3, 3)"
      ]
     },
     "execution_count": 136,
     "metadata": {},
     "output_type": "execute_result"
    }
   ],
   "source": [
    "arr5.shape"
   ]
  },
  {
   "cell_type": "code",
   "execution_count": 138,
   "id": "494b302e-9fc7-41ef-be97-48c09f3e33f1",
   "metadata": {},
   "outputs": [
    {
     "data": {
      "text/plain": [
       "9"
      ]
     },
     "execution_count": 138,
     "metadata": {},
     "output_type": "execute_result"
    }
   ],
   "source": [
    "arr5.size"
   ]
  },
  {
   "cell_type": "code",
   "execution_count": 140,
   "id": "7f53044a-8c07-4935-8137-035dd7a605c6",
   "metadata": {},
   "outputs": [
    {
     "data": {
      "text/plain": [
       "dtype('int64')"
      ]
     },
     "execution_count": 140,
     "metadata": {},
     "output_type": "execute_result"
    }
   ],
   "source": [
    "arr.dtype"
   ]
  },
  {
   "cell_type": "code",
   "execution_count": 151,
   "id": "7ec54f7c-a397-41ea-930e-0bed062a9fc6",
   "metadata": {},
   "outputs": [
    {
     "data": {
      "text/plain": [
       "8"
      ]
     },
     "execution_count": 151,
     "metadata": {},
     "output_type": "execute_result"
    }
   ],
   "source": [
    "arr.itemsize"
   ]
  },
  {
   "cell_type": "code",
   "execution_count": 161,
   "id": "a4d22b86-7b24-4251-a8f9-ceb497d2e510",
   "metadata": {},
   "outputs": [
    {
     "data": {
      "text/plain": [
       "72"
      ]
     },
     "execution_count": 161,
     "metadata": {},
     "output_type": "execute_result"
    }
   ],
   "source": [
    "(arr5.itemsize) * (arr5.size)"
   ]
  },
  {
   "cell_type": "code",
   "execution_count": null,
   "id": "df0a63e3-9570-40cd-9e89-73198b219e33",
   "metadata": {},
   "outputs": [],
   "source": []
  },
  {
   "cell_type": "markdown",
   "id": "c39ca9c0-8a69-4f25-928a-3f473847ed2c",
   "metadata": {},
   "source": [
    "**ARRAY METHODS**"
   ]
  },
  {
   "cell_type": "code",
   "execution_count": 164,
   "id": "45a0d79c-26e1-4903-ba5e-80584c2f44a4",
   "metadata": {},
   "outputs": [
    {
     "data": {
      "text/plain": [
       "array([[1, 2, 3],\n",
       "       [4, 5, 6],\n",
       "       [7, 8, 9]])"
      ]
     },
     "execution_count": 164,
     "metadata": {},
     "output_type": "execute_result"
    }
   ],
   "source": [
    "arr5"
   ]
  },
  {
   "cell_type": "code",
   "execution_count": 166,
   "id": "6c20a016-8d80-4ec2-97af-c5b7c770683a",
   "metadata": {},
   "outputs": [
    {
     "data": {
      "text/plain": [
       "1"
      ]
     },
     "execution_count": 166,
     "metadata": {},
     "output_type": "execute_result"
    }
   ],
   "source": [
    "arr5.min()"
   ]
  },
  {
   "cell_type": "code",
   "execution_count": 168,
   "id": "2a550147-445c-4e32-b075-b4195953a1ec",
   "metadata": {},
   "outputs": [
    {
     "data": {
      "text/plain": [
       "9"
      ]
     },
     "execution_count": 168,
     "metadata": {},
     "output_type": "execute_result"
    }
   ],
   "source": [
    "arr5.max()"
   ]
  },
  {
   "cell_type": "code",
   "execution_count": 172,
   "id": "b86d920e-0637-4f39-98be-867765088169",
   "metadata": {},
   "outputs": [
    {
     "data": {
      "text/plain": [
       "5.0"
      ]
     },
     "execution_count": 172,
     "metadata": {},
     "output_type": "execute_result"
    }
   ],
   "source": [
    "arr5.mean()"
   ]
  },
  {
   "cell_type": "code",
   "execution_count": 174,
   "id": "8525e001-6ca6-4a72-bb90-b817e72ec02d",
   "metadata": {},
   "outputs": [
    {
     "data": {
      "text/plain": [
       "2.581988897471611"
      ]
     },
     "execution_count": 174,
     "metadata": {},
     "output_type": "execute_result"
    }
   ],
   "source": [
    "arr5.std()"
   ]
  },
  {
   "cell_type": "code",
   "execution_count": 184,
   "id": "c42a9e1e-45cd-4ae5-8622-33ba24bc80b9",
   "metadata": {},
   "outputs": [
    {
     "data": {
      "text/plain": [
       "8"
      ]
     },
     "execution_count": 184,
     "metadata": {},
     "output_type": "execute_result"
    }
   ],
   "source": [
    "arr5.argmax()"
   ]
  },
  {
   "cell_type": "code",
   "execution_count": 186,
   "id": "2fb25427-678e-4a9d-bb35-da0a88de696c",
   "metadata": {},
   "outputs": [
    {
     "data": {
      "text/plain": [
       "0"
      ]
     },
     "execution_count": 186,
     "metadata": {},
     "output_type": "execute_result"
    }
   ],
   "source": [
    "arr5.argmin()"
   ]
  },
  {
   "cell_type": "code",
   "execution_count": 176,
   "id": "84b356b9-7984-4d32-8e9c-0bcec44a0fbd",
   "metadata": {},
   "outputs": [
    {
     "data": {
      "text/plain": [
       "45"
      ]
     },
     "execution_count": 176,
     "metadata": {},
     "output_type": "execute_result"
    }
   ],
   "source": [
    "arr5.sum()"
   ]
  },
  {
   "cell_type": "code",
   "execution_count": 178,
   "id": "42f8a555-a10f-4eb3-a6e4-9ff3bead1954",
   "metadata": {},
   "outputs": [
    {
     "data": {
      "text/plain": [
       "array([12, 15, 18])"
      ]
     },
     "execution_count": 178,
     "metadata": {},
     "output_type": "execute_result"
    }
   ],
   "source": [
    "np.sum(arr5,axis = 0)  #axis = 0  means column wise"
   ]
  },
  {
   "cell_type": "code",
   "execution_count": 182,
   "id": "64778539-39ca-42f7-b0ed-2129cadbf4b3",
   "metadata": {},
   "outputs": [
    {
     "data": {
      "text/plain": [
       "array([ 6, 15, 24])"
      ]
     },
     "execution_count": 182,
     "metadata": {},
     "output_type": "execute_result"
    }
   ],
   "source": [
    "np.sum(arr5,axis = 1)  #axis = 1  means row wise"
   ]
  },
  {
   "cell_type": "code",
   "execution_count": null,
   "id": "96f5cdeb-ce42-4830-8386-ed7f21ac5503",
   "metadata": {},
   "outputs": [],
   "source": []
  },
  {
   "cell_type": "markdown",
   "id": "e3d2ff5b-daf9-4e5d-8913-feddee73a363",
   "metadata": {},
   "source": [
    "**RESHAPING AND RESIZING**"
   ]
  },
  {
   "cell_type": "code",
   "execution_count": 229,
   "id": "798b3e67-1b42-40be-bb57-c3abca5a622c",
   "metadata": {},
   "outputs": [
    {
     "data": {
      "text/plain": [
       "array([ 1,  2,  3,  4,  5,  6,  7,  8,  9, 10, 11, 12, 13, 14, 15, 16, 17,\n",
       "       18, 19, 20, 21, 22, 23, 24, 25, 26, 27, 28, 29, 30])"
      ]
     },
     "execution_count": 229,
     "metadata": {},
     "output_type": "execute_result"
    }
   ],
   "source": [
    "arr6 = np.arange(1,31)\n",
    "arr6"
   ]
  },
  {
   "cell_type": "code",
   "execution_count": 231,
   "id": "f5185072-480f-432b-9bd2-4923d7189c8d",
   "metadata": {},
   "outputs": [
    {
     "data": {
      "text/plain": [
       "(30,)"
      ]
     },
     "execution_count": 231,
     "metadata": {},
     "output_type": "execute_result"
    }
   ],
   "source": [
    "arr6.shape"
   ]
  },
  {
   "cell_type": "code",
   "execution_count": 233,
   "id": "fa426dbf-1f58-4b2e-b784-7ee8f46144bb",
   "metadata": {},
   "outputs": [
    {
     "data": {
      "text/plain": [
       "array([[ 1,  2,  3,  4,  5],\n",
       "       [ 6,  7,  8,  9, 10],\n",
       "       [11, 12, 13, 14, 15],\n",
       "       [16, 17, 18, 19, 20],\n",
       "       [21, 22, 23, 24, 25],\n",
       "       [26, 27, 28, 29, 30]])"
      ]
     },
     "execution_count": 233,
     "metadata": {},
     "output_type": "execute_result"
    }
   ],
   "source": [
    "arr6.reshape((6,5))"
   ]
  },
  {
   "cell_type": "code",
   "execution_count": 235,
   "id": "6cac82ff-6e65-4104-a342-e6d866c28100",
   "metadata": {},
   "outputs": [],
   "source": [
    "arr6.resize((5,6))"
   ]
  },
  {
   "cell_type": "code",
   "execution_count": 237,
   "id": "3a5038db-f939-4e7e-8075-1d105babf9fa",
   "metadata": {},
   "outputs": [
    {
     "data": {
      "text/plain": [
       "array([[ 1,  2,  3,  4,  5,  6],\n",
       "       [ 7,  8,  9, 10, 11, 12],\n",
       "       [13, 14, 15, 16, 17, 18],\n",
       "       [19, 20, 21, 22, 23, 24],\n",
       "       [25, 26, 27, 28, 29, 30]])"
      ]
     },
     "execution_count": 237,
     "metadata": {},
     "output_type": "execute_result"
    }
   ],
   "source": [
    "arr6"
   ]
  },
  {
   "cell_type": "code",
   "execution_count": null,
   "id": "cc3a9495-204c-46bd-9a28-ca4378ef4b4e",
   "metadata": {},
   "outputs": [],
   "source": []
  }
 ],
 "metadata": {
  "kernelspec": {
   "display_name": "Python [conda env:base] *",
   "language": "python",
   "name": "conda-base-py"
  },
  "language_info": {
   "codemirror_mode": {
    "name": "ipython",
    "version": 3
   },
   "file_extension": ".py",
   "mimetype": "text/x-python",
   "name": "python",
   "nbconvert_exporter": "python",
   "pygments_lexer": "ipython3",
   "version": "3.12.7"
  }
 },
 "nbformat": 4,
 "nbformat_minor": 5
}

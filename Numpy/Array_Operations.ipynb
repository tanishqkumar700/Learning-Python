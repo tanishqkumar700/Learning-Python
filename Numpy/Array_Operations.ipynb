{
 "cells": [
  {
   "cell_type": "code",
   "execution_count": 2,
   "id": "9f3d9a66-d90d-432a-b5c2-d72b30c937aa",
   "metadata": {},
   "outputs": [],
   "source": [
    "import numpy as np"
   ]
  },
  {
   "cell_type": "markdown",
   "id": "71d3f614-930e-4260-8bbc-33d93128a1a7",
   "metadata": {},
   "source": [
    "****ARRAY OPERATIONS****"
   ]
  },
  {
   "cell_type": "markdown",
   "id": "9e307a31-eb98-4582-949a-8267770f9380",
   "metadata": {},
   "source": [
    "**ARITHMATIC OPERATIONS**"
   ]
  },
  {
   "cell_type": "code",
   "execution_count": null,
   "id": "ad129630-611a-4bb5-be6e-d8c4fcff3123",
   "metadata": {},
   "outputs": [],
   "source": []
  },
  {
   "cell_type": "markdown",
   "id": "5728da4d-0181-4c2a-92bd-99e9a3826d2f",
   "metadata": {},
   "source": [
    "**BROADCASTING**"
   ]
  },
  {
   "cell_type": "code",
   "execution_count": null,
   "id": "630f0850-6e00-42c2-bae9-f033cc8b5fd6",
   "metadata": {},
   "outputs": [],
   "source": []
  },
  {
   "cell_type": "markdown",
   "id": "26608b01-fa61-4f17-91bc-64c770f2c715",
   "metadata": {},
   "source": [
    "**DEEP AND SHALLOW COPY**"
   ]
  },
  {
   "cell_type": "code",
   "execution_count": null,
   "id": "c741cec0-8edb-4ac0-b9f4-e6712cb21daf",
   "metadata": {},
   "outputs": [],
   "source": []
  },
  {
   "cell_type": "markdown",
   "id": "3383873e-5660-44f0-848f-059ce917c26d",
   "metadata": {},
   "source": [
    "**MATRIX OPERATIONS**"
   ]
  },
  {
   "cell_type": "code",
   "execution_count": null,
   "id": "f31894ff-cfd3-429a-bd61-60fa276ff36d",
   "metadata": {},
   "outputs": [],
   "source": []
  },
  {
   "cell_type": "markdown",
   "id": "15f6712c-266e-4304-baad-159b26adc5ef",
   "metadata": {},
   "source": []
  },
  {
   "cell_type": "code",
   "execution_count": null,
   "id": "8b807249-c50f-4aa7-bdd0-7b21d824531a",
   "metadata": {},
   "outputs": [],
   "source": []
  },
  {
   "cell_type": "code",
   "execution_count": null,
   "id": "339090fd-3de3-4f7c-bf00-65425809818d",
   "metadata": {},
   "outputs": [],
   "source": []
  },
  {
   "cell_type": "code",
   "execution_count": null,
   "id": "99db1d3b-9183-4e98-b359-080c3431c466",
   "metadata": {},
   "outputs": [],
   "source": []
  },
  {
   "cell_type": "code",
   "execution_count": null,
   "id": "eb9bad0e-9060-4523-99a5-a9fd4b961e23",
   "metadata": {},
   "outputs": [],
   "source": []
  },
  {
   "cell_type": "code",
   "execution_count": null,
   "id": "6ac4214f-5444-4663-8160-0aebc3711ac7",
   "metadata": {},
   "outputs": [],
   "source": []
  },
  {
   "cell_type": "code",
   "execution_count": null,
   "id": "a6fe4cd9-af82-49c5-a37c-7ed09972a0d0",
   "metadata": {},
   "outputs": [],
   "source": []
  },
  {
   "cell_type": "code",
   "execution_count": null,
   "id": "5031b6df-a1b0-4cc1-a234-e7dc819cdcd5",
   "metadata": {},
   "outputs": [],
   "source": []
  },
  {
   "cell_type": "code",
   "execution_count": null,
   "id": "d172a646-a710-4de2-adee-eda4fadf6f3d",
   "metadata": {},
   "outputs": [],
   "source": []
  },
  {
   "cell_type": "code",
   "execution_count": null,
   "id": "222232dd-9074-4342-84be-eabc90c35686",
   "metadata": {},
   "outputs": [],
   "source": []
  },
  {
   "cell_type": "code",
   "execution_count": null,
   "id": "91942083-87cb-4940-b3ef-259251192bc5",
   "metadata": {},
   "outputs": [],
   "source": []
  },
  {
   "cell_type": "code",
   "execution_count": null,
   "id": "5cf90b33-23ad-419d-b4f8-776e119c1e0d",
   "metadata": {},
   "outputs": [],
   "source": []
  },
  {
   "cell_type": "code",
   "execution_count": null,
   "id": "51341293-d5c4-4cf3-887a-99be596c0872",
   "metadata": {},
   "outputs": [],
   "source": []
  },
  {
   "cell_type": "code",
   "execution_count": null,
   "id": "7d9149f6-6469-4c17-ae34-4240b1ee4e5d",
   "metadata": {},
   "outputs": [],
   "source": []
  },
  {
   "cell_type": "code",
   "execution_count": null,
   "id": "107307ef-dca4-4b58-a6b5-e719f471a719",
   "metadata": {},
   "outputs": [],
   "source": []
  },
  {
   "cell_type": "code",
   "execution_count": null,
   "id": "1eb8b1ea-a2de-419b-8f33-f67c8930a22d",
   "metadata": {},
   "outputs": [],
   "source": []
  },
  {
   "cell_type": "code",
   "execution_count": null,
   "id": "b288c303-d7ff-4847-ae93-549416124781",
   "metadata": {},
   "outputs": [],
   "source": []
  },
  {
   "cell_type": "code",
   "execution_count": null,
   "id": "59af5d94-6808-4839-acf0-24dc10c525a1",
   "metadata": {},
   "outputs": [],
   "source": []
  },
  {
   "cell_type": "code",
   "execution_count": null,
   "id": "ed848bd9-3d8f-4140-a36c-69c5d2ac8ef9",
   "metadata": {},
   "outputs": [],
   "source": []
  }
 ],
 "metadata": {
  "kernelspec": {
   "display_name": "Python [conda env:base] *",
   "language": "python",
   "name": "conda-base-py"
  },
  "language_info": {
   "codemirror_mode": {
    "name": "ipython",
    "version": 3
   },
   "file_extension": ".py",
   "mimetype": "text/x-python",
   "name": "python",
   "nbconvert_exporter": "python",
   "pygments_lexer": "ipython3",
   "version": "3.12.7"
  }
 },
 "nbformat": 4,
 "nbformat_minor": 5
}
